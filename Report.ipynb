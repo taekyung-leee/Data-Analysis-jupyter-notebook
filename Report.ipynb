{
 "cells": [
  {
   "cell_type": "code",
   "execution_count": 12,
   "metadata": {
    "id": "h0LVvvnfJsg5"
   },
   "outputs": [],
   "source": [
    "# Import pandas\n",
    "import pandas as pd"
   ]
  },
  {
   "cell_type": "code",
   "execution_count": 13,
   "metadata": {
    "id": "rv2oLRnPK36J"
   },
   "outputs": [],
   "source": [
    "# Create a DataFrame with balance.txt\n",
    "df = pd.read_csv('balance.txt',sep=' ')"
   ]
  },
  {
   "cell_type": "markdown",
   "metadata": {
    "id": "_LXpBJXZLYoh"
   },
   "source": [
    "Write the code needed to produce a report that provides the following information:\n",
    "* Compare the average income based on ethnicity. \n",
    "* On average, do married or single people have a higher balance?\n",
    "* What is the highest income in our dataset?\n",
    "* What is the lowest income in our dataset?\n",
    "* How many cards do we have recorded in our dataset? (Hint: use `sum()`)\n",
    "* How many females do we have information for vs how many males? (Hint: use `count()`For a list of all methods for computation of descriptive stats, explore the [pandas documentation](https://pandas.pydata.org/pandas-docs/stable/reference/frame.html#computations-descriptive-stats)). \n",
    "\n",
    "\n"
   ]
  },
  {
   "cell_type": "code",
   "execution_count": 14,
   "metadata": {},
   "outputs": [
    {
     "name": "stdout",
     "output_type": "stream",
     "text": [
      "Ethnicity\n",
      "African American    47.682101\n",
      "Asian               44.187833\n",
      "Caucasian           44.671596\n",
      "Name: Income, dtype: float64\n"
     ]
    }
   ],
   "source": [
    "# Compare the average income based on ethnicity. \n",
    "df = df.iloc[1:,:]\n",
    "income_by_ethnicity = df.groupby('Ethnicity')['Income'].mean()\n",
    "print(income_by_ethnicity)"
   ]
  },
  {
   "cell_type": "code",
   "execution_count": 15,
   "metadata": {},
   "outputs": [
    {
     "name": "stdout",
     "output_type": "stream",
     "text": [
      "Married people mean balance:13.31950591796124\n",
      "Single people mean balance: 13.32708516148061\n",
      "Single people have a higher balance on average.\n"
     ]
    }
   ],
   "source": [
    "# Question, On average, do married or single people have a higher balance?\n",
    "df = df.iloc[9:,:]\n",
    "# Categorise married and single individual with their average balance. \n",
    "married = df[df.Married == \"Yes\"].loc[:,'Balance'].mean() \n",
    "single = df[df.Married == \"No\"].loc[:,'Balance'].mean() \n",
    "\n",
    "#print mean balance for each group\n",
    "print(f\"Married people mean balance is {married}\")\n",
    "print(f\"Single people mean balance is {single}\")\n",
    "\n",
    "# Calculate which group has the higher balance.\n",
    "if married > single:\n",
    "    print(\"Married people have a higher balance on average.\")\n",
    "else:\n",
    "    print(\"Single people have a higher balance on average.\")"
   ]
  },
  {
   "cell_type": "code",
   "execution_count": 16,
   "metadata": {},
   "outputs": [
    {
     "name": "stdout",
     "output_type": "stream",
     "text": [
      "The highest income in the datset is 186.634.\n"
     ]
    }
   ],
   "source": [
    "# What is the highest income in our dataset?\n",
    "df = df.iloc[1:,:]\n",
    "\n",
    "highest_income = df['Income'].max()\n",
    "print(f\"The highest income in the datset is {highest_income}.\")"
   ]
  },
  {
   "cell_type": "code",
   "execution_count": 17,
   "metadata": {},
   "outputs": [
    {
     "name": "stdout",
     "output_type": "stream",
     "text": [
      "The lowest income in the datset is 10.354.\n"
     ]
    }
   ],
   "source": [
    "# What is the lowest income in our dataset?\n",
    "df = df.iloc[1:,:]\n",
    "\n",
    "lowest_income = df['Income'].min()\n",
    "print(f\"The lowest income in the datset is {lowest_income}.\")"
   ]
  },
  {
   "cell_type": "code",
   "execution_count": 18,
   "metadata": {},
   "outputs": [
    {
     "name": "stdout",
     "output_type": "stream",
     "text": [
      "We have a recorded number of 1139 in our dataset.\n"
     ]
    }
   ],
   "source": [
    "# How many cards do we have recorded in our dataset? \n",
    "df = df.iloc[4:,:]\n",
    "\n",
    "cards_number = df['Cards'].sum()\n",
    "print(f\"We have a recorded number of {cards_number} cards in our dataset.\")"
   ]
  },
  {
   "cell_type": "code",
   "execution_count": null,
   "metadata": {},
   "outputs": [
    {
     "ename": "NameError",
     "evalue": "name 'df' is not defined",
     "output_type": "error",
     "traceback": [
      "\u001b[0;31m---------------------------------------------------------------------------\u001b[0m",
      "\u001b[0;31mNameError\u001b[0m                                 Traceback (most recent call last)",
      "Cell \u001b[0;32mIn[2], line 3\u001b[0m\n\u001b[1;32m      1\u001b[0m \u001b[38;5;66;03m# How many females do we have information for vs how many males? \u001b[39;00m\n\u001b[1;32m      2\u001b[0m \u001b[38;5;66;03m#(Hint: use `count()`For a list of all methods for computation of descriptive stats, explore the [pandas documentation]\u001b[39;00m\n\u001b[0;32m----> 3\u001b[0m df \u001b[38;5;241m=\u001b[39m \u001b[43mdf\u001b[49m\u001b[38;5;241m.\u001b[39miloc[\u001b[38;5;241m7\u001b[39m:,:]\n\u001b[1;32m      5\u001b[0m gender_count \u001b[38;5;241m=\u001b[39m df[\u001b[38;5;124m'\u001b[39m\u001b[38;5;124mGender\u001b[39m\u001b[38;5;124m'\u001b[39m]\u001b[38;5;241m.\u001b[39mvalue_counts()\n\u001b[1;32m      6\u001b[0m \u001b[38;5;28mprint\u001b[39m(gender_count)\n",
      "\u001b[0;31mNameError\u001b[0m: name 'df' is not defined"
     ]
    }
   ],
   "source": [
    "# How many females do we have information for vs how many males? \n",
    "# (Hint: use `count()`For a list of all methods for computation of descriptive stats, explore the [pandas documentation]\n",
    "df = df.iloc[7:, :]\n",
    "\n",
    "# use the values_counts function to count the number in each gender.\n",
    "gender_count = df['Gender'].value_counts()\n",
    "# print the count of each gender\n",
    "print(gender_count)"
   ]
  },
  {
   "cell_type": "code",
   "execution_count": null,
   "metadata": {},
   "outputs": [],
   "source": []
  },
  {
   "cell_type": "code",
   "execution_count": null,
   "metadata": {},
   "outputs": [],
   "source": []
  },
  {
   "cell_type": "code",
   "execution_count": null,
   "metadata": {},
   "outputs": [],
   "source": []
  }
 ],
 "metadata": {
  "colab": {
   "authorship_tag": "ABX9TyP5J3xG1JXUCQAkP9OLQqdU",
   "provenance": []
  },
  "kernelspec": {
   "display_name": "Python 3 (ipykernel)",
   "language": "python",
   "name": "python3"
  },
  "language_info": {
   "codemirror_mode": {
    "name": "ipython",
    "version": 3
   },
   "file_extension": ".py",
   "mimetype": "text/x-python",
   "name": "python",
   "nbconvert_exporter": "python",
   "pygments_lexer": "ipython3",
   "version": "3.10.9"
  }
 },
 "nbformat": 4,
 "nbformat_minor": 1
}
